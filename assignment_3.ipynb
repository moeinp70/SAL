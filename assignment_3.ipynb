{
 "cells": [
  {
   "cell_type": "markdown",
   "id": "7b7e137b-04e3-4129-944c-15cccc4b1fba",
   "metadata": {},
   "source": [
    "# Assignment: Reject Option\n",
    "In this assignment, your task is to implement a reject option in order to improve the predictions of a model.\n",
    "That is, data points in regions with high ambiguity should be rejected, otherwise the predictions of the original model should be used.\n",
    "The model is trained with the given full data set, and we just care about the performance on this data set, and not about generalization capabilities.\n",
    "So, there is not need for any cross validation setup, nor any other train/val setup-based experiments."
   ]
  },
  {
   "cell_type": "markdown",
   "id": "b07cbec9-8af9-43a6-b840-1763326db85d",
   "metadata": {},
   "source": [
    "## Prerequisites"
   ]
  },
  {
   "cell_type": "code",
   "execution_count": 1,
   "id": "753b478c",
   "metadata": {},
   "outputs": [],
   "source": [
    "import pandas as pd\n",
    "import numpy as np\n",
    "from pathlib import Path\n",
    "\n",
    "from sklearn import preprocessing\n",
    "from sklearn.neural_network import MLPClassifier\n",
    "\n",
    "from matplotlib import pyplot as plt\n",
    "import seaborn as sns\n",
    "sns.set_context('notebook')\n",
    "\n",
    "random_state = 42\n",
    "\n",
    "# general plot configuration\n",
    "SMALL_SIZE = 10\n",
    "MEDIUM_SIZE = 16\n",
    "LARGE_SIZE = 20\n",
    "HUGE_SIZE = 24\n",
    "\n",
    "plt.rc('figure', figsize=(12, 12))        # default figure size\n",
    "plt.rc('figure', titlesize=HUGE_SIZE)     # fontsize of the figure title\n",
    "plt.rc('figure', titleweight='bold')      # weight of the figure title\n",
    "plt.rc('font', size=MEDIUM_SIZE)          # default text sizes\n",
    "plt.rc('axes', titlesize=LARGE_SIZE)      # fontsize of the axes title\n",
    "plt.rc('axes', titleweight='bold')        # weight of the axes title\n",
    "plt.rc('axes', labelsize=MEDIUM_SIZE)     # fontsize of the x and y labels\n",
    "plt.rc('xtick', labelsize=MEDIUM_SIZE)    # fontsize of the tick labels\n",
    "plt.rc('ytick', labelsize=MEDIUM_SIZE)    # fontsize of the tick labels\n",
    "plt.rc('legend', fontsize=MEDIUM_SIZE)    # legend fontsize"
   ]
  },
  {
   "cell_type": "markdown",
   "id": "68fb4cd4-28ab-497d-a638-25932273cfe9",
   "metadata": {},
   "source": [
    "## Specify data location"
   ]
  },
  {
   "cell_type": "code",
   "execution_count": 2,
   "id": "3df33824-57ba-4393-a4f8-fa58851aff66",
   "metadata": {},
   "outputs": [],
   "source": [
    "DATA_HOME = Path(Path.cwd(), \"data\")"
   ]
  },
  {
   "cell_type": "markdown",
   "id": "03307145-d357-43a4-bd3c-bb498eacc9b2",
   "metadata": {},
   "source": [
    "## Importing data"
   ]
  },
  {
   "cell_type": "code",
   "execution_count": 3,
   "id": "5ea4a575",
   "metadata": {},
   "outputs": [
    {
     "name": "stdout",
     "output_type": "stream",
     "text": [
      "2157\n"
     ]
    }
   ],
   "source": [
    "df = sns.load_dataset(\"assignment_3\", data_home=DATA_HOME)\n",
    "\n",
    "print(len(df))"
   ]
  },
  {
   "cell_type": "markdown",
   "id": "6176dd09-64f7-4788-ba8d-313b8d671e2b",
   "metadata": {},
   "source": [
    "# Your tasks\n",
    "- Explore the data and look for ambiguities\n",
    "- Train a MLPClassifier that has *as little neurons as possible* without overfitting (i.e., it doesn't need to work well on ambiguous data)\n",
    "- Implement a reject option for the region in the data where there are ambiguities, and the model cannot be trusted (e.g., due to a high error rate according to the training data)\n",
    "- Combine everything into a system that outputs either 'reject' or one of the labels as a result\n",
    "- Evaluate your system *thoroughly* and present your insights and reasoning behind your experiments\n",
    "- Document your approach in this notebook (no separate slides necessary) and present it\n",
    "- Discuss possible further steps that might help, but would take too long for this assignment\n",
    "\n",
    "## Tips:\n",
    "- Notice there is no label for ambiguous data, so there is some room for interpretation\n",
    "- Be specifically careful not to reject too much (i.e., data where there is no ambiguity)"
   ]
  }
 ],
 "metadata": {
  "kernelspec": {
   "display_name": "Python 3 (ipykernel)",
   "language": "python",
   "name": "python3"
  },
  "language_info": {
   "codemirror_mode": {
    "name": "ipython",
    "version": 3
   },
   "file_extension": ".py",
   "mimetype": "text/x-python",
   "name": "python",
   "nbconvert_exporter": "python",
   "pygments_lexer": "ipython3",
   "version": "3.9.12"
  },
  "varInspector": {
   "cols": {
    "lenName": 16,
    "lenType": 16,
    "lenVar": 40
   },
   "kernels_config": {
    "python": {
     "delete_cmd_postfix": "",
     "delete_cmd_prefix": "del ",
     "library": "var_list.py",
     "varRefreshCmd": "print(var_dic_list())"
    },
    "r": {
     "delete_cmd_postfix": ") ",
     "delete_cmd_prefix": "rm(",
     "library": "var_list.r",
     "varRefreshCmd": "cat(var_dic_list()) "
    }
   },
   "types_to_exclude": [
    "module",
    "function",
    "builtin_function_or_method",
    "instance",
    "_Feature"
   ],
   "window_display": false
  }
 },
 "nbformat": 4,
 "nbformat_minor": 5
}
